{
 "cells": [
  {
   "cell_type": "markdown",
   "id": "f157c3a9",
   "metadata": {},
   "source": [
    "#### Lets practice some data science with python tools\n",
    "This text is not a heading..."
   ]
  },
  {
   "cell_type": "code",
   "execution_count": 175,
   "id": "a02cef1a",
   "metadata": {},
   "outputs": [
    {
     "name": "stdout",
     "output_type": "stream",
     "text": [
      "apple\n",
      "cherry\n",
      "pear\n",
      "['banana', 'cherry']\n"
     ]
    }
   ],
   "source": [
    "fruit = ['apple', 'banana', 'cherry', 'pear']\n",
    "print(fruit[0]) #first one - apple\n",
    "print(fruit[2]) #third one - cherry\n",
    "print(fruit[-1]) #last one - negative sttarts from the back \n",
    "\n",
    "slice = fruit[1:3] # 1 is starting with, and 3 is up to but not including 3\n",
    "print(slice) \n"
   ]
  },
  {
   "cell_type": "code",
   "execution_count": 176,
   "id": "1adb1653",
   "metadata": {},
   "outputs": [],
   "source": [
    "import pandas as pd\n"
   ]
  },
  {
   "cell_type": "code",
   "execution_count": null,
   "id": "408b0f77",
   "metadata": {},
   "outputs": [
    {
     "name": "stdout",
     "output_type": "stream",
     "text": [
      "Cherry\n",
      "24\n"
     ]
    },
    {
     "data": {
      "application/vnd.microsoft.datawrangler.viewer.v0+json": {
       "columns": [
        {
         "name": "index",
         "rawType": "int64",
         "type": "integer"
        },
        {
         "name": "Names",
         "rawType": "object",
         "type": "string"
        },
        {
         "name": "Quantities",
         "rawType": "int64",
         "type": "integer"
        }
       ],
       "ref": "25d3d72d-a885-4439-bfbf-01b343afc720",
       "rows": [
        [
         "0",
         "Apple",
         "9"
        ],
        [
         "1",
         "Banana",
         "8"
        ],
        [
         "2",
         "Cherry",
         "7"
        ]
       ],
       "shape": {
        "columns": 2,
        "rows": 3
       }
      },
      "text/html": [
       "<div>\n",
       "<style scoped>\n",
       "    .dataframe tbody tr th:only-of-type {\n",
       "        vertical-align: middle;\n",
       "    }\n",
       "\n",
       "    .dataframe tbody tr th {\n",
       "        vertical-align: top;\n",
       "    }\n",
       "\n",
       "    .dataframe thead th {\n",
       "        text-align: right;\n",
       "    }\n",
       "</style>\n",
       "<table border=\"1\" class=\"dataframe\">\n",
       "  <thead>\n",
       "    <tr style=\"text-align: right;\">\n",
       "      <th></th>\n",
       "      <th>Names</th>\n",
       "      <th>Quantities</th>\n",
       "    </tr>\n",
       "  </thead>\n",
       "  <tbody>\n",
       "    <tr>\n",
       "      <th>0</th>\n",
       "      <td>Apple</td>\n",
       "      <td>9</td>\n",
       "    </tr>\n",
       "    <tr>\n",
       "      <th>1</th>\n",
       "      <td>Banana</td>\n",
       "      <td>8</td>\n",
       "    </tr>\n",
       "    <tr>\n",
       "      <th>2</th>\n",
       "      <td>Cherry</td>\n",
       "      <td>7</td>\n",
       "    </tr>\n",
       "  </tbody>\n",
       "</table>\n",
       "</div>"
      ],
      "text/plain": [
       "    Names  Quantities\n",
       "0   Apple           9\n",
       "1  Banana           8\n",
       "2  Cherry           7"
      ]
     },
     "execution_count": 177,
     "metadata": {},
     "output_type": "execute_result"
    }
   ],
   "source": [
    "#ordinary python dict with string keys, and lists for values which in turn have ints\n",
    "#create a python dict (dictionary)\n",
    "data = {\n",
    "    'Names': ['Apple', 'Banana', 'Cherry'], # 'Names' is the key, and after the colon : is the value, a list\n",
    "    'Quantities' : [9, 8, 7]\n",
    "}\n",
    "print(data['Names'][-1]) # get last item from the list with the key 'Names'\n",
    "print(sum(data['Quantities'])) \n",
    "\n",
    "df = pd.DataFrame(data) #dataframe is a spreadsheed with column labels and lists of values under each\n",
    "df"
   ]
  },
  {
   "cell_type": "code",
   "execution_count": 178,
   "id": "4a569c79",
   "metadata": {},
   "outputs": [
    {
     "name": "stdout",
     "output_type": "stream",
     "text": [
      "24\n",
      "24\n"
     ]
    }
   ],
   "source": [
    "s = pd.Series(df.Quantities)\n",
    "print(s.sum())\n",
    "\n",
    "a = np.array(s)\n",
    "print(a.sum())"
   ]
  },
  {
   "cell_type": "code",
   "execution_count": 179,
   "id": "0ef65cf9",
   "metadata": {},
   "outputs": [
    {
     "name": "stdout",
     "output_type": "stream",
     "text": [
      "144\n"
     ]
    }
   ],
   "source": [
    "data = [12, 33, 99]\n",
    "\n",
    "total = 0\n",
    "for n in data:\n",
    "    total += n\n",
    "    #total = total + n\n",
    "# total = sum(data) #aggregate sum total\n",
    "print(total)"
   ]
  },
  {
   "cell_type": "code",
   "execution_count": 180,
   "id": "c5ca39a1",
   "metadata": {},
   "outputs": [],
   "source": [
    "#what is numpy is for higher math and fast math using c-like data structure\n",
    "import numpy as np #import package/module and rename to np\n"
   ]
  },
  {
   "cell_type": "code",
   "execution_count": 181,
   "id": "a8dcfe18",
   "metadata": {},
   "outputs": [
    {
     "data": {
      "text/plain": [
       "list"
      ]
     },
     "execution_count": 181,
     "metadata": {},
     "output_type": "execute_result"
    }
   ],
   "source": [
    "data = [[\"A\", \"B\", \"C\"],[1, 2, 3]]\n",
    "type(data)"
   ]
  },
  {
   "cell_type": "code",
   "execution_count": 182,
   "id": "dd814d71",
   "metadata": {},
   "outputs": [
    {
     "data": {
      "text/plain": [
       "numpy.ndarray"
      ]
     },
     "execution_count": 182,
     "metadata": {},
     "output_type": "execute_result"
    }
   ],
   "source": [
    "a = np.array(data) #conver python list into numpy array aka ndarray\n",
    "type(a)\n"
   ]
  },
  {
   "cell_type": "code",
   "execution_count": 183,
   "id": "93df2b65",
   "metadata": {},
   "outputs": [
    {
     "data": {
      "text/plain": [
       "(2, 3)"
      ]
     },
     "execution_count": 183,
     "metadata": {},
     "output_type": "execute_result"
    }
   ],
   "source": [
    "\n",
    "a.shape # number of (rows, cols) aka our dimensions\n"
   ]
  },
  {
   "cell_type": "code",
   "execution_count": 184,
   "id": "7dc3f424",
   "metadata": {},
   "outputs": [
    {
     "ename": "TypeError",
     "evalue": "the resolved dtypes are not compatible with add.reduce. Resolved (dtype('<U21'), dtype('<U21'), dtype('<U42'))",
     "output_type": "error",
     "traceback": [
      "\u001b[1;31m---------------------------------------------------------------------------\u001b[0m",
      "\u001b[1;31mTypeError\u001b[0m                                 Traceback (most recent call last)",
      "Cell \u001b[1;32mIn[184], line 1\u001b[0m\n\u001b[1;32m----> 1\u001b[0m \u001b[43ma\u001b[49m\u001b[43m[\u001b[49m\u001b[38;5;241;43m1\u001b[39;49m\u001b[43m:\u001b[49m\u001b[38;5;241;43m0\u001b[39;49m\u001b[43m]\u001b[49m\u001b[38;5;241;43m.\u001b[39;49m\u001b[43msum\u001b[49m\u001b[43m(\u001b[49m\u001b[43m)\u001b[49m\n",
      "File \u001b[1;32mc:\\Users\\kevin\\AppData\\Local\\Programs\\Python\\Python310\\lib\\site-packages\\numpy\\_core\\_methods.py:52\u001b[0m, in \u001b[0;36m_sum\u001b[1;34m(a, axis, dtype, out, keepdims, initial, where)\u001b[0m\n\u001b[0;32m     50\u001b[0m \u001b[38;5;28;01mdef\u001b[39;00m\u001b[38;5;250m \u001b[39m\u001b[38;5;21m_sum\u001b[39m(a, axis\u001b[38;5;241m=\u001b[39m\u001b[38;5;28;01mNone\u001b[39;00m, dtype\u001b[38;5;241m=\u001b[39m\u001b[38;5;28;01mNone\u001b[39;00m, out\u001b[38;5;241m=\u001b[39m\u001b[38;5;28;01mNone\u001b[39;00m, keepdims\u001b[38;5;241m=\u001b[39m\u001b[38;5;28;01mFalse\u001b[39;00m,\n\u001b[0;32m     51\u001b[0m          initial\u001b[38;5;241m=\u001b[39m_NoValue, where\u001b[38;5;241m=\u001b[39m\u001b[38;5;28;01mTrue\u001b[39;00m):\n\u001b[1;32m---> 52\u001b[0m     \u001b[38;5;28;01mreturn\u001b[39;00m \u001b[43mumr_sum\u001b[49m\u001b[43m(\u001b[49m\u001b[43ma\u001b[49m\u001b[43m,\u001b[49m\u001b[43m \u001b[49m\u001b[43maxis\u001b[49m\u001b[43m,\u001b[49m\u001b[43m \u001b[49m\u001b[43mdtype\u001b[49m\u001b[43m,\u001b[49m\u001b[43m \u001b[49m\u001b[43mout\u001b[49m\u001b[43m,\u001b[49m\u001b[43m \u001b[49m\u001b[43mkeepdims\u001b[49m\u001b[43m,\u001b[49m\u001b[43m \u001b[49m\u001b[43minitial\u001b[49m\u001b[43m,\u001b[49m\u001b[43m \u001b[49m\u001b[43mwhere\u001b[49m\u001b[43m)\u001b[49m\n",
      "\u001b[1;31mTypeError\u001b[0m: the resolved dtypes are not compatible with add.reduce. Resolved (dtype('<U21'), dtype('<U21'), dtype('<U42'))"
     ]
    }
   ],
   "source": [
    "a[1:0].sum()"
   ]
  }
 ],
 "metadata": {
  "kernelspec": {
   "display_name": "Python 3",
   "language": "python",
   "name": "python3"
  },
  "language_info": {
   "codemirror_mode": {
    "name": "ipython",
    "version": 3
   },
   "file_extension": ".py",
   "mimetype": "text/x-python",
   "name": "python",
   "nbconvert_exporter": "python",
   "pygments_lexer": "ipython3",
   "version": "3.10.9"
  }
 },
 "nbformat": 4,
 "nbformat_minor": 5
}
